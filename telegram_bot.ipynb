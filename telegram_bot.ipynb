{
 "cells": [
  {
   "cell_type": "code",
   "execution_count": 1,
   "metadata": {},
   "outputs": [],
   "source": [
    "BOT_TOKEN = \"6943442725:AAEmqLXnLHbN4afvwu25gGTnkmQrSsEb7t0\"\n",
    "CHANNEL_CHAT_ID = -1002110108653"
   ]
  },
  {
   "cell_type": "code",
   "execution_count": 2,
   "metadata": {},
   "outputs": [],
   "source": [
    "from telegram import Bot"
   ]
  },
  {
   "cell_type": "code",
   "execution_count": 3,
   "metadata": {},
   "outputs": [],
   "source": [
    "bot = Bot(token=BOT_TOKEN)"
   ]
  },
  {
   "cell_type": "code",
   "execution_count": 4,
   "metadata": {},
   "outputs": [],
   "source": [
    "# await bot.send_message(chat_id=CHANNEL_CHAT_ID, text=\"hello world from me and dariush !\")"
   ]
  },
  {
   "cell_type": "code",
   "execution_count": 5,
   "metadata": {},
   "outputs": [],
   "source": [
    "import nasa_api_client"
   ]
  },
  {
   "cell_type": "code",
   "execution_count": 6,
   "metadata": {},
   "outputs": [],
   "source": [
    "nasa_client = nasa_api_client.NASAApodAPIClient(\n",
    "    api_key=\"U5E7hkJPfCh9wUDtueqhtJuDeAAtD7g6pGbSGCkN\",\n",
    "    url=\"https://api.nasa.gov/planetary/apod\",\n",
    ")"
   ]
  },
  {
   "cell_type": "code",
   "execution_count": 22,
   "metadata": {},
   "outputs": [],
   "source": [
    "nasa_data = nasa_client.get_random_data(1)[0]\n",
    "\n",
    "if nasa_data['media_type'] == 'image':\n",
    "    pic_url = nasa_data[\"url\"]\n",
    "    pic_date = nasa_data[\"date\"]\n",
    "    title = nasa_data[\"title\"]\n",
    "    explanation = nasa_data[\"explanation\"]\n",
    "    nasa_client.download_image(pic_url, \"image.jpg\")"
   ]
  },
  {
   "cell_type": "code",
   "execution_count": 8,
   "metadata": {},
   "outputs": [
    {
     "data": {
      "text/plain": [
       "{'date': '2020-01-27',\n",
       " 'explanation': \"Where do comet tails come from?  There are no obvious places on the nuclei of comets from which the jets that create comet tails emanate.  One of the best images of emerging jets is shown in the featured picture, taken in 2015 by ESA's robotic Rosetta spacecraft that orbited Comet 67P/Churyumov-Gerasimenko (Comet CG) from 2014 to 2016.  The picture shows plumes of gas and dust escaping numerous places from Comet CG's nucleus as it neared the Sun and heated up.  The comet has two prominent lobes, the larger one spanning about 4 kilometers, and a smaller 2.5-kilometer lobe connected by a narrow neck. Analyses indicate that evaporation must be taking place well inside the comet's surface to create the jets of dust and ice that we see emitted through the surface.  Comet CG (also known as Comet 67P) loses in jets about a meter of radius during each of its 6.44-year orbits around the Sun, a rate at which will completely destroy the comet in only thousands of years. In 2016, Rosetta's mission ended with a controlled impact onto Comet CG's surface.   Outreach Astronomers: Future APOD writers sought.\",\n",
       " 'hdurl': 'https://apod.nasa.gov/apod/image/2001/Comet67P_Rosetta_1024.jpg',\n",
       " 'media_type': 'image',\n",
       " 'service_version': 'v1',\n",
       " 'title': 'Comet CG Evaporates',\n",
       " 'url': 'https://apod.nasa.gov/apod/image/2001/Comet67P_Rosetta_1024.jpg'}"
      ]
     },
     "execution_count": 8,
     "metadata": {},
     "output_type": "execute_result"
    }
   ],
   "source": [
    "nasa_data"
   ]
  },
  {
   "cell_type": "code",
   "execution_count": 23,
   "metadata": {},
   "outputs": [
    {
     "data": {
      "text/plain": [
       "'https://apod.nasa.gov/apod/ap100119.html'"
      ]
     },
     "execution_count": 23,
     "metadata": {},
     "output_type": "execute_result"
    }
   ],
   "source": [
    "converted_date = pic_date.replace(\"-\" ,\"\")[2:]\n",
    "\n",
    "page_url = f\"https://apod.nasa.gov/apod/ap{converted_date}.html\"\n",
    "page_url\n"
   ]
  },
  {
   "cell_type": "code",
   "execution_count": 24,
   "metadata": {},
   "outputs": [
    {
     "data": {
      "text/plain": [
       "Message(caption=\"Dark Sand Cascades on Mars\\n\\nThey might look like trees on Mars, but they're not. Groups of dark brown streaks have been photographed by the Mars Reconnaissance Orbiter on melting pinkish sand dunes covered with light frost. The above image was taken in 2008 April near the North Pole of Mars. At that time, dark sand on the interior of Martian sand dunes became more and more visible as the spring Sun melted the lighter carbon dioxide ice.  When occurring near the top of a dune, dark sand may cascade down the dune leaving dark surface streaks -- streaks that might appear at first to be trees standing in front of the lighter regions, but cast no shadows. Objects about 25 centimeters across are resolved on this image spanning about one kilometer. Close ups of some parts of this image show billowing plumes indicating that the sand slides were occurring even when the image was being taken.\", caption_entities=(MessageEntity(length=26, offset=0, type=<MessageEntityType.TEXT_LINK>, url='https://apod.nasa.gov/apod/ap100119.html'), MessageEntity(length=26, offset=0, type=<MessageEntityType.BOLD>)), channel_chat_created=False, chat=Chat(id=-1002110108653, title='Dr😳ps', type=<ChatType.CHANNEL>, username='drops2024new'), date=datetime.datetime(2024, 5, 18, 17, 54, 9, tzinfo=datetime.timezone.utc), delete_chat_photo=False, group_chat_created=False, message_id=11, photo=(PhotoSize(file_id='AgACAgQAAx0EfcWz7QADC2ZI60FrL-vfbyqcKR51OxyCnS5bAAIRwTEbTZJIUrkqnWcIA09dAQADAgADcwADNQQ', file_size=1665, file_unique_id='AQADEcExG02SSFJ4', height=67, width=90), PhotoSize(file_id='AgACAgQAAx0EfcWz7QADC2ZI60FrL-vfbyqcKR51OxyCnS5bAAIRwTEbTZJIUrkqnWcIA09dAQADAgADbQADNQQ', file_size=24432, file_unique_id='AQADEcExG02SSFJy', height=240, width=320), PhotoSize(file_id='AgACAgQAAx0EfcWz7QADC2ZI60FrL-vfbyqcKR51OxyCnS5bAAIRwTEbTZJIUrkqnWcIA09dAQADAgADeAADNQQ', file_size=118518, file_unique_id='AQADEcExG02SSFJ9', height=600, width=800), PhotoSize(file_id='AgACAgQAAx0EfcWz7QADC2ZI60FrL-vfbyqcKR51OxyCnS5bAAIRwTEbTZJIUrkqnWcIA09dAQADAgADeQADNQQ', file_size=136743, file_unique_id='AQADEcExG02SSFJ-', height=675, width=900)), sender_chat=Chat(id=-1002110108653, title='Dr😳ps', type=<ChatType.CHANNEL>, username='drops2024new'), supergroup_chat_created=False)"
      ]
     },
     "execution_count": 24,
     "metadata": {},
     "output_type": "execute_result"
    }
   ],
   "source": [
    "caption = f\"<a href='{page_url}'><b>{title}</b></a>\\n\\n{explanation}\"\n",
    "\n",
    "await bot.send_photo(\n",
    "    chat_id=CHANNEL_CHAT_ID,photo='image.jpg' ,caption=caption , parse_mode=\"HTML\"\n",
    ")"
   ]
  }
 ],
 "metadata": {
  "kernelspec": {
   "display_name": "myenv",
   "language": "python",
   "name": "python3"
  },
  "language_info": {
   "codemirror_mode": {
    "name": "ipython",
    "version": 3
   },
   "file_extension": ".py",
   "mimetype": "text/x-python",
   "name": "python",
   "nbconvert_exporter": "python",
   "pygments_lexer": "ipython3",
   "version": "3.10.14"
  }
 },
 "nbformat": 4,
 "nbformat_minor": 2
}

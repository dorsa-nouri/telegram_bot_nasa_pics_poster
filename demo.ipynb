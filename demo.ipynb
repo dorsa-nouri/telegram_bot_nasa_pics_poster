{
 "cells": [
  {
   "cell_type": "code",
   "execution_count": null,
   "metadata": {},
   "outputs": [],
   "source": [
    "from nasa_channel_poster import post\n",
    "import time"
   ]
  },
  {
   "cell_type": "code",
   "execution_count": null,
   "metadata": {},
   "outputs": [],
   "source": [
    "BOT_TOKEN = \"6943442725:AAEmqLXnLHbN4afvwu25gGTnkmQrSsEb7t0\"\n",
    "CHANNEL_CHAT_ID = -1002110108653\n",
    "NASA_API_KEY = \"U5E7hkJPfCh9wUDtueqhtJuDeAAtD7g6pGbSGCkN\""
   ]
  },
  {
   "cell_type": "code",
   "execution_count": null,
   "metadata": {},
   "outputs": [],
   "source": [
    "while True:\n",
    "    try:\n",
    "        await post(bot_token=BOT_TOKEN , chat_id=CHANNEL_CHAT_ID , nasa_api_token=NASA_API_KEY)\n",
    "    except:\n",
    "        pass\n",
    "    finally:\n",
    "        time.sleep(15)\n",
    "        print(\"Sleeping!\")"
   ]
  }
 ],
 "metadata": {
  "kernelspec": {
   "display_name": "telegram",
   "language": "python",
   "name": "python3"
  },
  "language_info": {
   "codemirror_mode": {
    "name": "ipython",
    "version": 3
   },
   "file_extension": ".py",
   "mimetype": "text/x-python",
   "name": "python",
   "nbconvert_exporter": "python",
   "pygments_lexer": "ipython3",
   "version": "3.10.14"
  }
 },
 "nbformat": 4,
 "nbformat_minor": 2
}
